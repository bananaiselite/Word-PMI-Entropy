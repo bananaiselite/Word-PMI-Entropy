{
 "cells": [
  {
   "cell_type": "code",
   "execution_count": 3,
   "id": "8dd6e708-fbc4-474b-b64f-b1cc8e66e042",
   "metadata": {},
   "outputs": [
    {
     "data": {
      "text/plain": [
       "['volcab_finging']"
      ]
     },
     "execution_count": 3,
     "metadata": {},
     "output_type": "execute_result"
    }
   ],
   "source": [
    "import setuptools\n",
    "\n",
    "setuptools.find_packages()"
   ]
  },
  {
   "cell_type": "code",
   "execution_count": null,
   "id": "c5d13fdd-13b4-426b-b021-8a7e6c2eeafd",
   "metadata": {},
   "outputs": [],
   "source": []
  }
 ],
 "metadata": {
  "kernelspec": {
   "display_name": "Python 3 (ipykernel)",
   "language": "python",
   "name": "python3"
  },
  "language_info": {
   "codemirror_mode": {
    "name": "ipython",
    "version": 3
   },
   "file_extension": ".py",
   "mimetype": "text/x-python",
   "name": "python",
   "nbconvert_exporter": "python",
   "pygments_lexer": "ipython3",
   "version": "3.7.15"
  }
 },
 "nbformat": 4,
 "nbformat_minor": 5
}
